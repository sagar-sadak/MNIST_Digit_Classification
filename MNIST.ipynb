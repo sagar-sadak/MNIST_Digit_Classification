{
  "nbformat": 4,
  "nbformat_minor": 0,
  "metadata": {
    "colab": {
      "name": "MNIST.ipynb",
      "provenance": []
    },
    "kernelspec": {
      "name": "python3",
      "display_name": "Python 3"
    },
    "language_info": {
      "name": "python"
    }
  },
  "cells": [
    {
      "cell_type": "code",
      "execution_count": 1,
      "metadata": {
        "id": "lf46ornhBw6D"
      },
      "outputs": [],
      "source": [
        "# import all the libraries\n",
        "from sklearn.datasets import fetch_openml\n",
        "import matplotlib as mpl\n",
        "import matplotlib.pyplot as plt\n",
        "import numpy as np\n",
        "from sklearn.linear_model import SGDClassifier\n",
        "from sklearn.model_selection import cross_val_predict\n",
        "from sklearn.model_selection import cross_val_score\n",
        "from sklearn.metrics import confusion_matrix\n",
        "from sklearn.metrics import precision_score, recall_score\n",
        "from sklearn.metrics import f1_score\n",
        "from sklearn.metrics import precision_recall_curve\n",
        "from sklearn.svm import SVC\n",
        "from sklearn.preprocessing import StandardScaler\n",
        "from sklearn.metrics import accuracy_score"
      ]
    },
    {
      "cell_type": "code",
      "source": [
        "# let us fetch the mnist_784 dataset\n",
        "mnist = fetch_openml('mnist_784', version=1)\n",
        "mnist.keys()"
      ],
      "metadata": {
        "colab": {
          "base_uri": "https://localhost:8080/"
        },
        "id": "jRkC1ihVB_r7",
        "outputId": "db571977-2b04-49c0-e9d1-c5eb890322cd"
      },
      "execution_count": 2,
      "outputs": [
        {
          "output_type": "execute_result",
          "data": {
            "text/plain": [
              "dict_keys(['data', 'target', 'frame', 'categories', 'feature_names', 'target_names', 'DESCR', 'details', 'url'])"
            ]
          },
          "metadata": {},
          "execution_count": 2
        }
      ]
    },
    {
      "cell_type": "code",
      "source": [
        "X,y = mnist[\"data\"],mnist[\"target\"]\n",
        "print(X.shape)\n",
        "print(y.shape)\n",
        "# there are 70,000 images with 784 features each\n",
        "# 784 because they are 28x28 pixels\n",
        "# where each pixel is a value from 0(white) to 255(black)"
      ],
      "metadata": {
        "colab": {
          "base_uri": "https://localhost:8080/"
        },
        "id": "jf9hIp9ICA3r",
        "outputId": "326f736c-aca9-4805-c939-5e7d9a1bef05"
      },
      "execution_count": 3,
      "outputs": [
        {
          "output_type": "stream",
          "name": "stdout",
          "text": [
            "(70000, 784)\n",
            "(70000,)\n"
          ]
        }
      ]
    },
    {
      "cell_type": "code",
      "source": [
        "# let us look at one image\n",
        "temp = np.array(X.iloc[0])\n",
        "temp_image = temp.reshape(28,28)\n",
        "\n",
        "plt.imshow(temp_image, cmap=\"binary\")\n",
        "plt.axis(\"off\")\n",
        "plt.show()\n",
        "print(y[0])\n",
        "# The image looks like the number 5\n",
        "# we can confirm this by looking at the label, which does say 5"
      ],
      "metadata": {
        "colab": {
          "base_uri": "https://localhost:8080/",
          "height": 265
        },
        "id": "ijhbly-TCK09",
        "outputId": "c2b3a43a-f737-4993-d7b5-448b06988cfe"
      },
      "execution_count": 4,
      "outputs": [
        {
          "output_type": "display_data",
          "data": {
            "image/png": "[encoded data removed]",
            "text/plain": [
              "<Figure size 432x288 with 1 Axes>"
            ]
          },
          "metadata": {
            "needs_background": "light"
          }
        },
        {
          "output_type": "stream",
          "name": "stdout",
          "text": [
            "5\n"
          ]
        }
      ]
    },
    {
      "cell_type": "code",
      "source": [
        "# cast the label into an integer for the ML model\n",
        "y = y.astype(np.uint8)"
      ],
      "metadata": {
        "id": "GWpzECnRCW8M"
      },
      "execution_count": 5,
      "outputs": []
    },
    {
      "cell_type": "code",
      "source": [
        "# Now we will split our dataset into train and test\n",
        "# This dataset is already shuffled, so we can split it immediately\n",
        "X_train,X_test,y_train,y_test = X[:60000],X[60000:],y[:60000],y[60000:]"
      ],
      "metadata": {
        "id": "erVgrVnQCZM6"
      },
      "execution_count": 6,
      "outputs": []
    },
    {
      "cell_type": "markdown",
      "source": [
        "Binary Classification "
      ],
      "metadata": {
        "id": "xLLJ-cQ5CfLC"
      }
    },
    {
      "cell_type": "code",
      "source": [
        "# let us first test a binary classifier for the number 2\n",
        "# for this, we will use Stochastic Gradient Descent(SGD) classifier\n",
        "\n",
        "y_train_2 = (y_train == 2)\n",
        "y_test_2 = (y_test == 2)\n",
        "\n",
        "sgd_clf = SGDClassifier(random_state=42)\n",
        "sgd_clf.fit(X_train,y_train_2)\n",
        "\n",
        "# test it for a known 2 value\n",
        "sgd_clf.predict([np.array(X.iloc[5])])"
      ],
      "metadata": {
        "id": "xz_v_uXECapZ",
        "outputId": "e43d13ab-8903-4e37-d0c9-7c08a345fbd2",
        "colab": {
          "base_uri": "https://localhost:8080/"
        }
      },
      "execution_count": 7,
      "outputs": [
        {
          "output_type": "stream",
          "name": "stderr",
          "text": [
            "/usr/local/lib/python3.7/dist-packages/sklearn/base.py:446: UserWarning: X does not have valid feature names, but SGDClassifier was fitted with feature names\n",
            "  \"X does not have valid feature names, but\"\n"
          ]
        },
        {
          "output_type": "execute_result",
          "data": {
            "text/plain": [
              "array([ True])"
            ]
          },
          "metadata": {},
          "execution_count": 7
        }
      ]
    },
    {
      "cell_type": "code",
      "source": [
        "# we will now evaluate the model's accuracy using a confusion matrix\n",
        "y_train_pred = cross_val_predict(sgd_clf, X_train, y_train_2, cv=3)\n",
        "confusion_matrix(y_train_2,y_train_pred)\n",
        "# 51538 were false negatives, and 5050 were true positives"
      ],
      "metadata": {
        "id": "asy_V1ooCj_a",
        "outputId": "abc422fa-67f1-496d-a421-d695d75585ca",
        "colab": {
          "base_uri": "https://localhost:8080/"
        }
      },
      "execution_count": 8,
      "outputs": [
        {
          "output_type": "execute_result",
          "data": {
            "text/plain": [
              "array([[51538,  2504],\n",
              "       [  908,  5050]])"
            ]
          },
          "metadata": {},
          "execution_count": 8
        }
      ]
    },
    {
      "cell_type": "code",
      "source": [
        "# we will test its precision score and recall score\n",
        "\n",
        "print(\"Precision score:\",precision_score(y_train_2, y_train_pred))\n",
        "print(\"Recall score:\",recall_score(y_train_2, y_train_pred))\n",
        "\n",
        "# Here we can see that our model has an accuracy of only 67%\n",
        "# and it was able to detect 85% of the 2s in our dataset"
      ],
      "metadata": {
        "id": "2E3UBb0UClvU",
        "outputId": "a80fcc2e-577f-4b82-bae0-212d115ea386",
        "colab": {
          "base_uri": "https://localhost:8080/"
        }
      },
      "execution_count": 9,
      "outputs": [
        {
          "output_type": "stream",
          "name": "stdout",
          "text": [
            "Precision score: 0.6685199894095843\n",
            "Recall score: 0.8475998657267539\n"
          ]
        }
      ]
    },
    {
      "cell_type": "code",
      "source": [
        "# we can combine these two metrics into a single value\n",
        "# for this, we will use F1 score\n",
        "\n",
        "f1_score(y_train_2, y_train_pred)\n",
        "\n",
        "# The overall accuracy is about 75%\n",
        "# The f1 score is high if both precision and recall are high\n",
        "# but this is not possible as increasing precision decreases recall and vice versa\n",
        "# this is called the precision/recall trade-off"
      ],
      "metadata": {
        "id": "UAqkLjyOCnhr",
        "outputId": "ad848e83-9ffe-42eb-cf7c-7eea2d288975",
        "colab": {
          "base_uri": "https://localhost:8080/"
        }
      },
      "execution_count": 10,
      "outputs": [
        {
          "output_type": "execute_result",
          "data": {
            "text/plain": [
              "0.7474837181764358"
            ]
          },
          "metadata": {},
          "execution_count": 10
        }
      ]
    },
    {
      "cell_type": "code",
      "source": [
        "y_scores = cross_val_predict(sgd_clf, X_train, y_train_2, cv=3,\n",
        "                            method=\"decision_function\")\n",
        "precisions, recalls, thresholds = precision_recall_curve(y_train_2, y_scores)\n",
        "\n",
        "def precision_recall_vs_threshold(precisions, recalls, thresholds):\n",
        "    plt.plot(thresholds, precisions[:-1], \"b--\", label=\"Precision\")\n",
        "    plt.plot(thresholds, recalls[:-1], \"r-\", label=\"Recall\")\n",
        "    plt.legend(loc=\"right\")\n",
        "    plt.xlabel(\"Thresholds\")\n",
        "    plt.grid(True)\n",
        "\n",
        "precision_recall_vs_threshold(precisions, recalls, thresholds)\n",
        "plt.show()"
      ],
      "metadata": {
        "id": "qgBncOlcCpjq",
        "outputId": "df403996-6352-47f5-d82a-6b00f46fbcf9",
        "colab": {
          "base_uri": "https://localhost:8080/",
          "height": 279
        }
      },
      "execution_count": 11,
      "outputs": [
        {
          "output_type": "display_data",
          "data": {
            "image/png": "[encoded data removed]",
            "text/plain": [
              "<Figure size 432x288 with 1 Axes>"
            ]
          },
          "metadata": {
            "needs_background": "light"
          }
        }
      ]
    },
    {
      "cell_type": "markdown",
      "source": [
        "Multiclass Classification"
      ],
      "metadata": {
        "id": "kwcbUtLkCvE9"
      }
    },
    {
      "cell_type": "code",
      "source": [
        "# We will try using SVC with the scaled data\n",
        "svm_clf = SVC(C=5)\n",
        "scaler = StandardScaler()\n",
        "X_scaled = scaler.fit_transform(X_train.astype(np.float32))\n",
        "svm_clf.fit(X_scaled, y_train)"
      ],
      "metadata": {
        "id": "OF1V96z6CtXQ",
        "outputId": "52299ddf-947e-4f78-d537-b27a1c3945c7",
        "colab": {
          "base_uri": "https://localhost:8080/"
        }
      },
      "execution_count": 12,
      "outputs": [
        {
          "output_type": "execute_result",
          "data": {
            "text/plain": [
              "SVC(C=5)"
            ]
          },
          "metadata": {},
          "execution_count": 12
        }
      ]
    },
    {
      "cell_type": "code",
      "source": [
        "# Testing it on the test set\n",
        "X_test_scaled = scaler.transform(X_test.astype(np.float32))\n",
        "y_pred = svm_clf.predict(X_test_scaled)\n",
        "print(\"Overall accuracy:\",accuracy_score(y_test, y_pred))\n",
        "# This is great accuracy"
      ],
      "metadata": {
        "id": "PPTfk8DGCydE",
        "outputId": "a35ee535-52df-49a4-96f1-d3dcd8595cde",
        "colab": {
          "base_uri": "https://localhost:8080/"
        }
      },
      "execution_count": 13,
      "outputs": [
        {
          "output_type": "stream",
          "name": "stdout",
          "text": [
            "Overall accuracy: 0.9727\n"
          ]
        }
      ]
    }
  ]
}